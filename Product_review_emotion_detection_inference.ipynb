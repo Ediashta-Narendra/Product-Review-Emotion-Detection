{
 "cells": [
  {
   "cell_type": "markdown",
   "metadata": {},
   "source": [
    "# 09. Model Inference\n",
    ">this is a subset of main notebook titled `Product_review_emotion_detection.ipynb` which aimed to test model inference using new data"
   ]
  },
  {
   "cell_type": "code",
   "execution_count": 36,
   "metadata": {},
   "outputs": [],
   "source": [
    "#import libraries\n",
    "import pandas as pd\n",
    "import numpy as np\n",
    "import joblib\n",
    "import tensorflow as tf\n",
    "from tensorflow.keras.models import load_model"
   ]
  },
  {
   "cell_type": "code",
   "execution_count": 37,
   "metadata": {},
   "outputs": [],
   "source": [
    "#load files - vectorizer and model\n",
    "Vectorize = joblib.load('deployment/vectorizer.joblib')\n",
    "model_ann = load_model('deployment/emotion_detection_model.keras')"
   ]
  },
  {
   "cell_type": "code",
   "execution_count": 38,
   "metadata": {},
   "outputs": [],
   "source": [
    "# Load the saved model and vectorizer\n",
    "# model = tf.keras.models.load_model('emotion_detection_model.keras')\n",
    "# vectorizer = joblib.load('vectorizer.joblib')\n",
    "\n",
    "# Define the class labels\n",
    "label_mapping = {0: 'Anger', 1: 'Fear', 2: 'Happy', 3: 'Love', 4: 'Sadness'}\n",
    "\n",
    "# Function to make predictions with class probabilities as percentages\n",
    "def predict_emotion(text):\n",
    "    # Step 1: Vectorize the input text\n",
    "    text_vectorized = vectorizer.transform([text]).toarray()\n",
    "    \n",
    "    # Step 2: Make a prediction\n",
    "    predictions = model.predict(text_vectorized)\n",
    "    \n",
    "    # Step 3: Convert probabilities to percentages and associate with class names\n",
    "    prediction_percentages = (predictions[0] * 100).round(2)\n",
    "    class_probabilities = {label_mapping[i]: f\"{prob:.2f}%\" for i, prob in enumerate(prediction_percentages)}\n",
    "    \n",
    "    # Step 4: Find the emotion with the highest probability\n",
    "    predicted_label = np.argmax(predictions, axis=1)[0]\n",
    "    predicted_emotion = label_mapping[predicted_label]\n",
    "    \n",
    "    return predicted_emotion, class_probabilities\n"
   ]
  },
  {
   "cell_type": "code",
   "execution_count": 39,
   "metadata": {},
   "outputs": [
    {
     "name": "stdout",
     "output_type": "stream",
     "text": [
      "\u001b[1m1/1\u001b[0m \u001b[32m━━━━━━━━━━━━━━━━━━━━\u001b[0m\u001b[37m\u001b[0m \u001b[1m0s\u001b[0m 58ms/step\n",
      "Input Document: barang mantap gada lawan, oke lah pokoknya\n",
      "Predicted Emotion: Love\n",
      "Prediction Probabilities by Class: {'Anger': '9.94%', 'Fear': '6.68%', 'Happy': '25.58%', 'Love': '51.35%', 'Sadness': '6.45%'}\n"
     ]
    }
   ],
   "source": [
    "# Predict\n",
    "text='barang mantap gada lawan, oke lah pokoknya'\n",
    "\n",
    "predicted_emotion, class_probabilities = predict_emotion(text)\n",
    "print(\"Input Document:\", text)\n",
    "print(\"Predicted Emotion:\", predicted_emotion)\n",
    "print(\"Prediction Probabilities by Class:\", class_probabilities)"
   ]
  }
 ],
 "metadata": {
  "kernelspec": {
   "display_name": "base",
   "language": "python",
   "name": "python3"
  },
  "language_info": {
   "codemirror_mode": {
    "name": "ipython",
    "version": 3
   },
   "file_extension": ".py",
   "mimetype": "text/x-python",
   "name": "python",
   "nbconvert_exporter": "python",
   "pygments_lexer": "ipython3",
   "version": "3.12.4"
  }
 },
 "nbformat": 4,
 "nbformat_minor": 2
}
